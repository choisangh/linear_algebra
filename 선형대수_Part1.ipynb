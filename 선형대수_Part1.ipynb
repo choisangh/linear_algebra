{
  "cells": [
    {
      "cell_type": "markdown",
      "metadata": {
        "id": "view-in-github",
        "colab_type": "text"
      },
      "source": [
        "<a href=\"https://colab.research.google.com/github/choisangh/linear_algebra/blob/main/%EC%84%A0%ED%98%95%EB%8C%80%EC%88%98_Part1.ipynb\" target=\"_parent\"><img src=\"https://colab.research.google.com/assets/colab-badge.svg\" alt=\"Open In Colab\"/></a>"
      ]
    },
    {
      "cell_type": "code",
      "execution_count": null,
      "metadata": {
        "collapsed": true,
        "id": "Q5al9-mt9Csj"
      },
      "outputs": [],
      "source": [
        "import numpy as np"
      ]
    },
    {
      "cell_type": "code",
      "execution_count": null,
      "metadata": {
        "id": "4E1Kar4j9Csl",
        "outputId": "e908b7a7-9f27-4380-b2d0-e198143ad951"
      },
      "outputs": [
        {
          "name": "stdout",
          "output_type": "stream",
          "text": [
            "(3,)\n",
            "1\n"
          ]
        }
      ],
      "source": [
        "# column vector\n",
        "c = np.array([1,2,3])\n",
        "print(c.shape)\n",
        "\n",
        "# obtaining a particular entry\n",
        "print (c[0])"
      ]
    },
    {
      "cell_type": "code",
      "execution_count": null,
      "metadata": {
        "id": "x78cEXO-9Csl",
        "outputId": "19937345-3b33-4506-8593-0f227bda6750"
      },
      "outputs": [
        {
          "name": "stdout",
          "output_type": "stream",
          "text": [
            "(1, 3)\n"
          ]
        }
      ],
      "source": [
        "# row vector\n",
        "r = np.array([ [1,2,3] ])\n",
        "print (r.shape)"
      ]
    },
    {
      "cell_type": "code",
      "execution_count": null,
      "metadata": {
        "id": "4WHgU86j9Csm",
        "outputId": "8a7d587e-0efd-460b-b27d-c5cc0f0c6746"
      },
      "outputs": [
        {
          "name": "stdout",
          "output_type": "stream",
          "text": [
            "2\n"
          ]
        }
      ],
      "source": [
        "# obtaining a particular entry\n",
        "print (r[0,1])"
      ]
    },
    {
      "cell_type": "code",
      "execution_count": null,
      "metadata": {
        "id": "7GVhs0lu9Csm",
        "outputId": "48b94a42-65d5-4ceb-e56e-1a0392ad8f77"
      },
      "outputs": [
        {
          "name": "stdout",
          "output_type": "stream",
          "text": [
            "[[ 0.  0.]\n",
            " [ 0.  0.]]\n",
            "[[ 1.  1.]\n",
            " [ 1.  1.]]\n",
            "[[7 7]\n",
            " [7 7]]\n",
            "[[ 0.93589863  0.19331487]\n",
            " [ 0.14309097  0.43003853]]\n"
          ]
        }
      ],
      "source": [
        "# creating a matrix with all zeros\n",
        "a = np.zeros((2,2))\n",
        "print (a)\n",
        "# creating a matrix with all ones\n",
        "b = np.ones((2,2))\n",
        "print (b)\n",
        "             \n",
        "# creating a matrix filled with the same constant\n",
        "c = np.full((2,2), 7)\n",
        "print (c)\n",
        "             \n",
        "# creating a matrix with random values\n",
        "d = np.random.random((2,2))\n",
        "print (d)"
      ]
    },
    {
      "cell_type": "code",
      "execution_count": null,
      "metadata": {
        "scrolled": true,
        "id": "ySx8AoNX9Csm",
        "outputId": "54f42583-7c64-4c4f-ab96-93aa5004de2c"
      },
      "outputs": [
        {
          "name": "stdout",
          "output_type": "stream",
          "text": [
            "[[1 2]\n",
            " [3 4]\n",
            " [5 6]]\n"
          ]
        }
      ],
      "source": [
        "# creating a matrix\n",
        "A=np.array([[1,2],[3,4],[5,6]])\n",
        "print (A)\n"
      ]
    },
    {
      "cell_type": "code",
      "execution_count": null,
      "metadata": {
        "id": "iqecDdpV9Csm",
        "outputId": "3f0adca0-86fd-4959-9c25-be456057fa82"
      },
      "outputs": [
        {
          "data": {
            "text/plain": [
              "array([[11, 12, 13, 14],\n",
              "       [15, 16, 17, 18]])"
            ]
          },
          "execution_count": 27,
          "metadata": {},
          "output_type": "execute_result"
        }
      ],
      "source": [
        "# creating another matrix\n",
        "B=np.array([[11,12,13,14],[15,16,17,18]])\n",
        "B"
      ]
    },
    {
      "cell_type": "code",
      "execution_count": null,
      "metadata": {
        "id": "IJJvgfVo9Csn",
        "outputId": "22d4d74e-eaa5-4497-d295-bc5c57f237eb"
      },
      "outputs": [
        {
          "data": {
            "text/plain": [
              "array([[1, 3, 5],\n",
              "       [2, 4, 6]])"
            ]
          },
          "execution_count": 28,
          "metadata": {},
          "output_type": "execute_result"
        }
      ],
      "source": [
        "# transpose a matrix\n",
        "A.T"
      ]
    },
    {
      "cell_type": "code",
      "execution_count": null,
      "metadata": {
        "scrolled": true,
        "id": "2o4_GyHP9Csn",
        "outputId": "bee11695-0973-4202-8610-4631a0f708f8"
      },
      "outputs": [
        {
          "data": {
            "text/plain": [
              "array([[ 41,  44,  47,  50],\n",
              "       [ 93, 100, 107, 114],\n",
              "       [145, 156, 167, 178]])"
            ]
          },
          "execution_count": 29,
          "metadata": {},
          "output_type": "execute_result"
        }
      ],
      "source": [
        "# matrix-matrix multiplication (행렬내적)\n",
        "np.dot(A,B)"
      ]
    },
    {
      "cell_type": "code",
      "execution_count": null,
      "metadata": {
        "id": "Uk7DXvdQ9Cso",
        "outputId": "6865eafb-e95f-4d9a-dc5c-1f30187cfab4"
      },
      "outputs": [
        {
          "ename": "ValueError",
          "evalue": "shapes (2,4) and (3,2) not aligned: 4 (dim 1) != 3 (dim 0)",
          "output_type": "error",
          "traceback": [
            "\u001b[0;31m---------------------------------------------------------------\u001b[0m",
            "\u001b[0;31mValueError\u001b[0m                    Traceback (most recent call last)",
            "\u001b[0;32m<ipython-input-30-1c2410a4aca9>\u001b[0m in \u001b[0;36m<module>\u001b[0;34m()\u001b[0m\n\u001b[1;32m      1\u001b[0m \u001b[0;31m# matrix-matrix multiplication\u001b[0m\u001b[0;34m\u001b[0m\u001b[0;34m\u001b[0m\u001b[0m\n\u001b[1;32m      2\u001b[0m \u001b[0;31m# size should match!\u001b[0m\u001b[0;34m\u001b[0m\u001b[0;34m\u001b[0m\u001b[0m\n\u001b[0;32m----> 3\u001b[0;31m \u001b[0mnp\u001b[0m\u001b[0;34m.\u001b[0m\u001b[0mdot\u001b[0m\u001b[0;34m(\u001b[0m\u001b[0mB\u001b[0m\u001b[0;34m,\u001b[0m\u001b[0mA\u001b[0m\u001b[0;34m)\u001b[0m\u001b[0;34m\u001b[0m\u001b[0m\n\u001b[0m",
            "\u001b[0;31mValueError\u001b[0m: shapes (2,4) and (3,2) not aligned: 4 (dim 1) != 3 (dim 0)"
          ]
        }
      ],
      "source": [
        "# matrix-matrix multiplication \n",
        "# size should match! (사이즈가 맞지 않는 행렬내적)\n",
        "np.dot(B,A)"
      ]
    },
    {
      "cell_type": "code",
      "execution_count": null,
      "metadata": {
        "collapsed": true,
        "id": "umUBAUvN9Cso"
      },
      "outputs": [],
      "source": [
        "# coefficient matrix A and a vector b\n",
        "A=np.array([[60, 5.5, 1],[65, 5.0, 0],[55, 6.0, 1]])\n",
        "b=np.array([66, 70, 78])"
      ]
    },
    {
      "cell_type": "code",
      "execution_count": null,
      "metadata": {
        "id": "-d4aWoy39Cso",
        "outputId": "1dcfb07c-8412-42d4-98fe-49dd712373f3"
      },
      "outputs": [
        {
          "data": {
            "text/plain": [
              "array([[ 1.,  0.,  0.],\n",
              "       [ 0.,  1.,  0.],\n",
              "       [ 0.,  0.,  1.]])"
            ]
          },
          "execution_count": 33,
          "metadata": {},
          "output_type": "execute_result"
        }
      ],
      "source": [
        "# identity matrix (항등행렬)\n",
        "eye3 = np.eye(3)\n",
        "eye3"
      ]
    },
    {
      "cell_type": "code",
      "execution_count": null,
      "metadata": {
        "id": "hssKLUbv9Cso",
        "outputId": "fc4d2a66-8b15-485e-f3f2-358858f6ac5c"
      },
      "outputs": [
        {
          "data": {
            "text/plain": [
              "array([[ 0.08695652,  0.00869565, -0.08695652],\n",
              "       [-1.13043478,  0.08695652,  1.13043478],\n",
              "       [ 2.        , -1.        , -1.        ]])"
            ]
          },
          "execution_count": 35,
          "metadata": {},
          "output_type": "execute_result"
        }
      ],
      "source": [
        "# computing an inverse (역행렬 계산)\n",
        "from numpy.linalg import inv\n",
        "A_inv = inv(A)\n",
        "A_inv"
      ]
    },
    {
      "cell_type": "code",
      "execution_count": null,
      "metadata": {
        "id": "cM9QYm9x9Csp",
        "outputId": "09f87708-f253-46aa-b5f3-3ccf446aaac5"
      },
      "outputs": [
        {
          "data": {
            "text/plain": [
              "array([[  5.21739130e+00,   4.78260870e-02,  -8.69565217e-02],\n",
              "       [ -7.34782609e+01,   4.34782609e-01,   0.00000000e+00],\n",
              "       [  1.10000000e+02,  -6.00000000e+00,  -1.00000000e+00]])"
            ]
          },
          "execution_count": 36,
          "metadata": {},
          "output_type": "execute_result"
        }
      ],
      "source": [
        "# wrong matrix multiplication (잘못된 행렬곱 -> 각 행/열을 단순 곱하기)\n",
        "A*A_inv"
      ]
    },
    {
      "cell_type": "code",
      "execution_count": null,
      "metadata": {
        "id": "jhAk7gGR9Csp",
        "outputId": "f2cc14dc-d06f-4a53-c995-23dda5a06429"
      },
      "outputs": [
        {
          "data": {
            "text/plain": [
              "array([[ 1.,  0.,  0.],\n",
              "       [ 0.,  1.,  0.],\n",
              "       [ 0.,  0.,  1.]])"
            ]
          },
          "execution_count": 38,
          "metadata": {},
          "output_type": "execute_result"
        }
      ],
      "source": [
        "# correct matrix multiplication\n",
        "A.dot(A_inv)"
      ]
    },
    {
      "cell_type": "code",
      "execution_count": null,
      "metadata": {
        "id": "89CVT0bd9Csp",
        "outputId": "3464cc5c-68d1-4775-cc11-d6e7b7e4fe63"
      },
      "outputs": [
        {
          "data": {
            "text/plain": [
              "array([ -0.43478261,  19.65217391, -16.        ])"
            ]
          },
          "execution_count": 40,
          "metadata": {},
          "output_type": "execute_result"
        }
      ],
      "source": [
        "# solution of a linear system\n",
        "x=A_inv.dot(b)\n",
        "x"
      ]
    },
    {
      "cell_type": "code",
      "execution_count": null,
      "metadata": {
        "id": "2Q6CtQsO9Csp",
        "outputId": "9badcf91-4db7-4a55-bc9f-28eadc04e9b0"
      },
      "outputs": [
        {
          "data": {
            "text/plain": [
              "array([ -0.43478261,  19.65217391, -16.        ])"
            ]
          },
          "execution_count": 41,
          "metadata": {},
          "output_type": "execute_result"
        }
      ],
      "source": [
        "# a better way to solve the same linear system (선형시스템 한번에 계산하는 함수)\n",
        "from numpy.linalg import solve\n",
        "x = solve(A,b)\n",
        "x"
      ]
    }
  ],
  "metadata": {
    "anaconda-cloud": {},
    "kernelspec": {
      "display_name": "Python 3",
      "language": "python",
      "name": "python3"
    },
    "language_info": {
      "codemirror_mode": {
        "name": "ipython",
        "version": 3
      },
      "file_extension": ".py",
      "mimetype": "text/x-python",
      "name": "python",
      "nbconvert_exporter": "python",
      "pygments_lexer": "ipython3",
      "version": "3.6.1"
    },
    "colab": {
      "name": "선형대수 Part1.ipynb",
      "provenance": [],
      "collapsed_sections": [],
      "include_colab_link": true
    }
  },
  "nbformat": 4,
  "nbformat_minor": 0
}